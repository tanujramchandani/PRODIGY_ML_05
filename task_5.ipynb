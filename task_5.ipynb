{
 "cells": [
  {
   "cell_type": "markdown",
   "id": "f7d5d39c",
   "metadata": {},
   "source": [
    "# 🍱 Food Recognition (Subset Version)\n",
    "\n",
    "This notebook uses a reduced version of the Food-101 dataset with only 10 classes and 100 images per class for faster training/testing."
   ]
  },
  {
   "cell_type": "code",
   "execution_count": 1,
   "id": "2b8a3e05",
   "metadata": {},
   "outputs": [],
   "source": [
    "# Install required libraries (uncomment if needed)\n",
    "# !pip install torch torchvision matplotlib numpy\n"
   ]
  },
  {
   "cell_type": "code",
   "execution_count": 2,
   "id": "cb29f657",
   "metadata": {},
   "outputs": [],
   "source": [
    "import torch\n",
    "from torchvision.datasets import Food101\n",
    "from torchvision import transforms\n",
    "from torch.utils.data import DataLoader, Subset\n",
    "import matplotlib.pyplot as plt\n",
    "import numpy as np\n",
    "import os\n",
    "from collections import defaultdict\n"
   ]
  },
  {
   "cell_type": "code",
   "execution_count": 3,
   "id": "89f79673",
   "metadata": {},
   "outputs": [],
   "source": [
    "transform = transforms.Compose([\n",
    "    transforms.Resize((224, 224)),\n",
    "    transforms.ToTensor()\n",
    "])\n"
   ]
  },
  {
   "cell_type": "code",
   "execution_count": null,
   "id": "cb119a0f",
   "metadata": {},
   "outputs": [
    {
     "name": "stderr",
     "output_type": "stream",
     "text": [
      "12.4%"
     ]
    }
   ],
   "source": [
    "# Load full dataset\n",
    "full_dataset = Food101(root='./data', split='train', transform=transform, download=True)\n",
    "\n",
    "# Build a subset with 10 classes and 100 images per class\n",
    "target_classes = list(set(full_dataset._labels))[:10]\n",
    "class_counts = defaultdict(int)\n",
    "subset_indices = []\n",
    "\n",
    "for idx, (img, label) in enumerate(full_dataset):\n",
    "    if label in target_classes and class_counts[label] < 100:\n",
    "        subset_indices.append(idx)\n",
    "        class_counts[label] += 1\n",
    "    if all(count == 100 for count in class_counts.values()):\n",
    "        break\n",
    "\n",
    "# Create subset\n",
    "subset = Subset(full_dataset, subset_indices)\n",
    "loader = DataLoader(subset, batch_size=16, shuffle=True)\n",
    "print(f\"Loaded subset with {len(subset)} images across {len(target_classes)} classes.\")\n"
   ]
  },
  {
   "cell_type": "code",
   "execution_count": null,
   "id": "e850a84a",
   "metadata": {},
   "outputs": [],
   "source": [
    "# Visualize some sample images\n",
    "def imshow(img):\n",
    "    img = img.numpy().transpose((1, 2, 0))\n",
    "    plt.imshow(img)\n",
    "    plt.axis('off')\n",
    "    plt.show()\n",
    "\n",
    "# Display 5 images\n",
    "for i in range(5):\n",
    "    image, label = subset[i]\n",
    "    print(f\"Label: {full_dataset.classes[label]}\")\n",
    "    imshow(image)\n"
   ]
  }
 ],
 "metadata": {
  "kernelspec": {
   "display_name": "Python (tfenv)",
   "language": "python",
   "name": "tfenv"
  },
  "language_info": {
   "codemirror_mode": {
    "name": "ipython",
    "version": 3
   },
   "file_extension": ".py",
   "mimetype": "text/x-python",
   "name": "python",
   "nbconvert_exporter": "python",
   "pygments_lexer": "ipython3",
   "version": "3.10.18"
  }
 },
 "nbformat": 4,
 "nbformat_minor": 5
}
